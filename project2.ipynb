{
 "cells": [
  {
   "cell_type": "code",
   "execution_count": 1,
   "id": "90efffe1",
   "metadata": {},
   "outputs": [],
   "source": [
    "import numpy as np\n",
    "import pandas as pd\n",
    "import plotly.graph_objects as go\n",
    "import plotly.io as pio\n",
    "from pathlib import Path"
   ]
  },
  {
   "cell_type": "code",
   "execution_count": 2,
   "id": "ad089ce5",
   "metadata": {},
   "outputs": [],
   "source": [
    "df = pd.read_csv(\"data/nypd/allegations_202007271729.csv\")\n",
    "\n",
    "disp_map = {\n",
    "    \"Unsubstantiated\": \"Unsubstantiated\",\n",
    "    \"Exonerated\": \"Exonerated\",\n",
    "}\n",
    "df = df[df[\"year_received\"] < 2020]\n",
    "\n",
    "df[\"board_disposition\"] = df[\"board_disposition\"].map(lambda x: disp_map.get(x, \"Substantiated\"))"
   ]
  },
  {
   "cell_type": "code",
   "execution_count": 3,
   "id": "fbc80193",
   "metadata": {},
   "outputs": [],
   "source": [
    "dispos = (\n",
    "    df\n",
    "    .groupby([\"year_received\", 'board_disposition'])\n",
    "    [[\"unique_mos_id\"]]\n",
    "    .count()\n",
    "    .reset_index()\n",
    "    .rename(columns = {\"unique_mos_id\":\"count\"})\n",
    ")\n",
    "dispos[\"total\"] = dispos.groupby(\"year_received\")['count'].transform(\"sum\")\n",
    "dispos[\"percent\"] = dispos[\"count\"] * 100 / dispos[\"total\"]"
   ]
  },
  {
   "cell_type": "code",
   "execution_count": 60,
   "id": "8e24b237",
   "metadata": {},
   "outputs": [
    {
     "data": {
      "application/vnd.plotly.v1+json": {
       "config": {
        "plotlyServerURL": "https://plot.ly"
       },
       "data": [
        {
         "name": "Misconduct Found %",
         "type": "bar",
         "x": [
          1985,
          1986,
          1987,
          1988,
          1989,
          1990,
          1991,
          1992,
          1993,
          1994,
          1995,
          1996,
          1997,
          1998,
          1999,
          2000,
          2001,
          2002,
          2003,
          2004,
          2005,
          2006,
          2007,
          2008,
          2009,
          2010,
          2011,
          2012,
          2013,
          2014,
          2015,
          2016,
          2017,
          2018,
          2019
         ],
         "y": [
          14.285714285714286,
          13.636363636363637,
          4.545454545454546,
          28.571428571428573,
          4.081632653061225,
          25.925925925925927,
          8.928571428571429,
          25,
          28.94736842105263,
          32.20338983050848,
          29.107981220657276,
          31.10236220472441,
          28.97196261682243,
          31.2,
          17.419354838709676,
          29.74137931034483,
          22.093023255813954,
          27.320490367775832,
          27.525252525252526,
          26.85185185185185,
          20.817843866171003,
          19.528415961305924,
          14.16490486257928,
          15.634580012262417,
          18.625780806360023,
          17.480409885473176,
          23.10126582278481,
          25.25801195002716,
          25.827814569536425,
          27.83783783783784,
          35.121107266435985,
          31.897654584221748,
          25.298438934802572,
          28.364752301622097,
          30.87697929354446
         ]
        },
        {
         "hovertemplate": "In %{x}, there were %{y} unsubstantiated complaints.<extra></extra>",
         "name": "No Misconduct Found",
         "type": "bar",
         "x": [
          1985,
          1986,
          1987,
          1988,
          1989,
          1990,
          1991,
          1992,
          1993,
          1994,
          1995,
          1996,
          1997,
          1998,
          1999,
          2000,
          2001,
          2002,
          2003,
          2004,
          2005,
          2006,
          2007,
          2008,
          2009,
          2010,
          2011,
          2012,
          2013,
          2014,
          2015,
          2016,
          2017,
          2018,
          2019
         ],
         "y": [
          6,
          19,
          21,
          25,
          47,
          40,
          51,
          66,
          54,
          120,
          151,
          175,
          152,
          172,
          128,
          163,
          268,
          415,
          574,
          711,
          1065,
          1331,
          1624,
          1376,
          1433,
          1369,
          1458,
          1376,
          1568,
          1602,
          1500,
          1597,
          1627,
          1634,
          1135
         ]
        }
       ],
       "layout": {
        "annotations": [
         {
          "align": "center",
          "showarrow": false,
          "text": "<span style=\"font-size:24pt;\">The Myth of Police Brutality</span>",
          "x": 0.5,
          "xref": "paper",
          "y": 1.31,
          "yref": "paper"
         },
         {
          "align": "center",
          "showarrow": false,
          "text": "<span style=\"font-size:18pt;\">Huge Increase in the Number of False NYPD Complaints</span>",
          "x": 0.5,
          "xref": "paper",
          "y": 1.16,
          "yref": "paper"
         },
         {
          "align": "left",
          "font": {
           "color": "rgba(0,0,0,.6)"
          },
          "showarrow": false,
          "text": "<span style=\"font-size:14pt\">Figure 2:</span>",
          "x": 0,
          "xref": "paper",
          "y": -0.265,
          "yanchor": "bottom",
          "yref": "paper"
         },
         {
          "align": "left",
          "font": {
           "color": "rgba(0,0,0,.6)"
          },
          "showarrow": false,
          "text": "<span style=\"font-size:14pt\">Beginning in the early 2000's, the NYPD began receiving an increasing number of complaints against its officers. <br>In the vast majority of complaints, the officer involved was not found to have violated department policy. By <br>2007, around 1,500 of these unsubstantiated claims were being made each year to the NYPD.</span>",
          "x": 0.08,
          "xref": "paper",
          "y": -0.4,
          "yanchor": "bottom",
          "yref": "paper"
         }
        ],
        "autosize": true,
        "barmode": "stack",
        "colorway": [
         "#EF553B",
         "#636efa"
        ],
        "font": {
         "family": "Arial, sans-serif",
         "size": 18
        },
        "height": 670,
        "legend": {
         "bgcolor": "rgba(255,255,255,.7)",
         "title": {
          "text": "Complaints:"
         },
         "x": 0.02,
         "xanchor": "left",
         "xref": "paper",
         "y": 0.7,
         "yanchor": "bottom",
         "yref": "paper"
        },
        "margin": {
         "b": 170,
         "l": 100,
         "r": 80,
         "t": 150
        },
        "template": {
         "data": {
          "bar": [
           {
            "error_x": {
             "color": "#2a3f5f"
            },
            "error_y": {
             "color": "#2a3f5f"
            },
            "marker": {
             "line": {
              "color": "#E5ECF6",
              "width": 0.5
             },
             "pattern": {
              "fillmode": "overlay",
              "size": 10,
              "solidity": 0.2
             }
            },
            "type": "bar"
           }
          ],
          "barpolar": [
           {
            "marker": {
             "line": {
              "color": "#E5ECF6",
              "width": 0.5
             },
             "pattern": {
              "fillmode": "overlay",
              "size": 10,
              "solidity": 0.2
             }
            },
            "type": "barpolar"
           }
          ],
          "carpet": [
           {
            "aaxis": {
             "endlinecolor": "#2a3f5f",
             "gridcolor": "white",
             "linecolor": "white",
             "minorgridcolor": "white",
             "startlinecolor": "#2a3f5f"
            },
            "baxis": {
             "endlinecolor": "#2a3f5f",
             "gridcolor": "white",
             "linecolor": "white",
             "minorgridcolor": "white",
             "startlinecolor": "#2a3f5f"
            },
            "type": "carpet"
           }
          ],
          "choropleth": [
           {
            "colorbar": {
             "outlinewidth": 0,
             "ticks": ""
            },
            "type": "choropleth"
           }
          ],
          "contour": [
           {
            "colorbar": {
             "outlinewidth": 0,
             "ticks": ""
            },
            "colorscale": [
             [
              0,
              "#0d0887"
             ],
             [
              0.1111111111111111,
              "#46039f"
             ],
             [
              0.2222222222222222,
              "#7201a8"
             ],
             [
              0.3333333333333333,
              "#9c179e"
             ],
             [
              0.4444444444444444,
              "#bd3786"
             ],
             [
              0.5555555555555556,
              "#d8576b"
             ],
             [
              0.6666666666666666,
              "#ed7953"
             ],
             [
              0.7777777777777778,
              "#fb9f3a"
             ],
             [
              0.8888888888888888,
              "#fdca26"
             ],
             [
              1,
              "#f0f921"
             ]
            ],
            "type": "contour"
           }
          ],
          "contourcarpet": [
           {
            "colorbar": {
             "outlinewidth": 0,
             "ticks": ""
            },
            "type": "contourcarpet"
           }
          ],
          "heatmap": [
           {
            "colorbar": {
             "outlinewidth": 0,
             "ticks": ""
            },
            "colorscale": [
             [
              0,
              "#0d0887"
             ],
             [
              0.1111111111111111,
              "#46039f"
             ],
             [
              0.2222222222222222,
              "#7201a8"
             ],
             [
              0.3333333333333333,
              "#9c179e"
             ],
             [
              0.4444444444444444,
              "#bd3786"
             ],
             [
              0.5555555555555556,
              "#d8576b"
             ],
             [
              0.6666666666666666,
              "#ed7953"
             ],
             [
              0.7777777777777778,
              "#fb9f3a"
             ],
             [
              0.8888888888888888,
              "#fdca26"
             ],
             [
              1,
              "#f0f921"
             ]
            ],
            "type": "heatmap"
           }
          ],
          "heatmapgl": [
           {
            "colorbar": {
             "outlinewidth": 0,
             "ticks": ""
            },
            "colorscale": [
             [
              0,
              "#0d0887"
             ],
             [
              0.1111111111111111,
              "#46039f"
             ],
             [
              0.2222222222222222,
              "#7201a8"
             ],
             [
              0.3333333333333333,
              "#9c179e"
             ],
             [
              0.4444444444444444,
              "#bd3786"
             ],
             [
              0.5555555555555556,
              "#d8576b"
             ],
             [
              0.6666666666666666,
              "#ed7953"
             ],
             [
              0.7777777777777778,
              "#fb9f3a"
             ],
             [
              0.8888888888888888,
              "#fdca26"
             ],
             [
              1,
              "#f0f921"
             ]
            ],
            "type": "heatmapgl"
           }
          ],
          "histogram": [
           {
            "marker": {
             "pattern": {
              "fillmode": "overlay",
              "size": 10,
              "solidity": 0.2
             }
            },
            "type": "histogram"
           }
          ],
          "histogram2d": [
           {
            "colorbar": {
             "outlinewidth": 0,
             "ticks": ""
            },
            "colorscale": [
             [
              0,
              "#0d0887"
             ],
             [
              0.1111111111111111,
              "#46039f"
             ],
             [
              0.2222222222222222,
              "#7201a8"
             ],
             [
              0.3333333333333333,
              "#9c179e"
             ],
             [
              0.4444444444444444,
              "#bd3786"
             ],
             [
              0.5555555555555556,
              "#d8576b"
             ],
             [
              0.6666666666666666,
              "#ed7953"
             ],
             [
              0.7777777777777778,
              "#fb9f3a"
             ],
             [
              0.8888888888888888,
              "#fdca26"
             ],
             [
              1,
              "#f0f921"
             ]
            ],
            "type": "histogram2d"
           }
          ],
          "histogram2dcontour": [
           {
            "colorbar": {
             "outlinewidth": 0,
             "ticks": ""
            },
            "colorscale": [
             [
              0,
              "#0d0887"
             ],
             [
              0.1111111111111111,
              "#46039f"
             ],
             [
              0.2222222222222222,
              "#7201a8"
             ],
             [
              0.3333333333333333,
              "#9c179e"
             ],
             [
              0.4444444444444444,
              "#bd3786"
             ],
             [
              0.5555555555555556,
              "#d8576b"
             ],
             [
              0.6666666666666666,
              "#ed7953"
             ],
             [
              0.7777777777777778,
              "#fb9f3a"
             ],
             [
              0.8888888888888888,
              "#fdca26"
             ],
             [
              1,
              "#f0f921"
             ]
            ],
            "type": "histogram2dcontour"
           }
          ],
          "mesh3d": [
           {
            "colorbar": {
             "outlinewidth": 0,
             "ticks": ""
            },
            "type": "mesh3d"
           }
          ],
          "parcoords": [
           {
            "line": {
             "colorbar": {
              "outlinewidth": 0,
              "ticks": ""
             }
            },
            "type": "parcoords"
           }
          ],
          "pie": [
           {
            "automargin": true,
            "type": "pie"
           }
          ],
          "scatter": [
           {
            "fillpattern": {
             "fillmode": "overlay",
             "size": 10,
             "solidity": 0.2
            },
            "type": "scatter"
           }
          ],
          "scatter3d": [
           {
            "line": {
             "colorbar": {
              "outlinewidth": 0,
              "ticks": ""
             }
            },
            "marker": {
             "colorbar": {
              "outlinewidth": 0,
              "ticks": ""
             }
            },
            "type": "scatter3d"
           }
          ],
          "scattercarpet": [
           {
            "marker": {
             "colorbar": {
              "outlinewidth": 0,
              "ticks": ""
             }
            },
            "type": "scattercarpet"
           }
          ],
          "scattergeo": [
           {
            "marker": {
             "colorbar": {
              "outlinewidth": 0,
              "ticks": ""
             }
            },
            "type": "scattergeo"
           }
          ],
          "scattergl": [
           {
            "marker": {
             "colorbar": {
              "outlinewidth": 0,
              "ticks": ""
             }
            },
            "type": "scattergl"
           }
          ],
          "scattermapbox": [
           {
            "marker": {
             "colorbar": {
              "outlinewidth": 0,
              "ticks": ""
             }
            },
            "type": "scattermapbox"
           }
          ],
          "scatterpolar": [
           {
            "marker": {
             "colorbar": {
              "outlinewidth": 0,
              "ticks": ""
             }
            },
            "type": "scatterpolar"
           }
          ],
          "scatterpolargl": [
           {
            "marker": {
             "colorbar": {
              "outlinewidth": 0,
              "ticks": ""
             }
            },
            "type": "scatterpolargl"
           }
          ],
          "scatterternary": [
           {
            "marker": {
             "colorbar": {
              "outlinewidth": 0,
              "ticks": ""
             }
            },
            "type": "scatterternary"
           }
          ],
          "surface": [
           {
            "colorbar": {
             "outlinewidth": 0,
             "ticks": ""
            },
            "colorscale": [
             [
              0,
              "#0d0887"
             ],
             [
              0.1111111111111111,
              "#46039f"
             ],
             [
              0.2222222222222222,
              "#7201a8"
             ],
             [
              0.3333333333333333,
              "#9c179e"
             ],
             [
              0.4444444444444444,
              "#bd3786"
             ],
             [
              0.5555555555555556,
              "#d8576b"
             ],
             [
              0.6666666666666666,
              "#ed7953"
             ],
             [
              0.7777777777777778,
              "#fb9f3a"
             ],
             [
              0.8888888888888888,
              "#fdca26"
             ],
             [
              1,
              "#f0f921"
             ]
            ],
            "type": "surface"
           }
          ],
          "table": [
           {
            "cells": {
             "fill": {
              "color": "#EBF0F8"
             },
             "line": {
              "color": "white"
             }
            },
            "header": {
             "fill": {
              "color": "#C8D4E3"
             },
             "line": {
              "color": "white"
             }
            },
            "type": "table"
           }
          ]
         },
         "layout": {
          "annotationdefaults": {
           "arrowcolor": "#2a3f5f",
           "arrowhead": 0,
           "arrowwidth": 1
          },
          "autotypenumbers": "strict",
          "coloraxis": {
           "colorbar": {
            "outlinewidth": 0,
            "ticks": ""
           }
          },
          "colorscale": {
           "diverging": [
            [
             0,
             "#8e0152"
            ],
            [
             0.1,
             "#c51b7d"
            ],
            [
             0.2,
             "#de77ae"
            ],
            [
             0.3,
             "#f1b6da"
            ],
            [
             0.4,
             "#fde0ef"
            ],
            [
             0.5,
             "#f7f7f7"
            ],
            [
             0.6,
             "#e6f5d0"
            ],
            [
             0.7,
             "#b8e186"
            ],
            [
             0.8,
             "#7fbc41"
            ],
            [
             0.9,
             "#4d9221"
            ],
            [
             1,
             "#276419"
            ]
           ],
           "sequential": [
            [
             0,
             "#0d0887"
            ],
            [
             0.1111111111111111,
             "#46039f"
            ],
            [
             0.2222222222222222,
             "#7201a8"
            ],
            [
             0.3333333333333333,
             "#9c179e"
            ],
            [
             0.4444444444444444,
             "#bd3786"
            ],
            [
             0.5555555555555556,
             "#d8576b"
            ],
            [
             0.6666666666666666,
             "#ed7953"
            ],
            [
             0.7777777777777778,
             "#fb9f3a"
            ],
            [
             0.8888888888888888,
             "#fdca26"
            ],
            [
             1,
             "#f0f921"
            ]
           ],
           "sequentialminus": [
            [
             0,
             "#0d0887"
            ],
            [
             0.1111111111111111,
             "#46039f"
            ],
            [
             0.2222222222222222,
             "#7201a8"
            ],
            [
             0.3333333333333333,
             "#9c179e"
            ],
            [
             0.4444444444444444,
             "#bd3786"
            ],
            [
             0.5555555555555556,
             "#d8576b"
            ],
            [
             0.6666666666666666,
             "#ed7953"
            ],
            [
             0.7777777777777778,
             "#fb9f3a"
            ],
            [
             0.8888888888888888,
             "#fdca26"
            ],
            [
             1,
             "#f0f921"
            ]
           ]
          },
          "colorway": [
           "#636efa",
           "#EF553B",
           "#00cc96",
           "#ab63fa",
           "#FFA15A",
           "#19d3f3",
           "#FF6692",
           "#B6E880",
           "#FF97FF",
           "#FECB52"
          ],
          "font": {
           "color": "#2a3f5f"
          },
          "geo": {
           "bgcolor": "white",
           "lakecolor": "white",
           "landcolor": "#E5ECF6",
           "showlakes": true,
           "showland": true,
           "subunitcolor": "white"
          },
          "hoverlabel": {
           "align": "left"
          },
          "hovermode": "closest",
          "mapbox": {
           "style": "light"
          },
          "paper_bgcolor": "white",
          "plot_bgcolor": "#E5ECF6",
          "polar": {
           "angularaxis": {
            "gridcolor": "white",
            "linecolor": "white",
            "ticks": ""
           },
           "bgcolor": "#E5ECF6",
           "radialaxis": {
            "gridcolor": "white",
            "linecolor": "white",
            "ticks": ""
           }
          },
          "scene": {
           "xaxis": {
            "backgroundcolor": "#E5ECF6",
            "gridcolor": "white",
            "gridwidth": 2,
            "linecolor": "white",
            "showbackground": true,
            "ticks": "",
            "zerolinecolor": "white"
           },
           "yaxis": {
            "backgroundcolor": "#E5ECF6",
            "gridcolor": "white",
            "gridwidth": 2,
            "linecolor": "white",
            "showbackground": true,
            "ticks": "",
            "zerolinecolor": "white"
           },
           "zaxis": {
            "backgroundcolor": "#E5ECF6",
            "gridcolor": "white",
            "gridwidth": 2,
            "linecolor": "white",
            "showbackground": true,
            "ticks": "",
            "zerolinecolor": "white"
           }
          },
          "shapedefaults": {
           "line": {
            "color": "#2a3f5f"
           }
          },
          "ternary": {
           "aaxis": {
            "gridcolor": "white",
            "linecolor": "white",
            "ticks": ""
           },
           "baxis": {
            "gridcolor": "white",
            "linecolor": "white",
            "ticks": ""
           },
           "bgcolor": "#E5ECF6",
           "caxis": {
            "gridcolor": "white",
            "linecolor": "white",
            "ticks": ""
           }
          },
          "title": {
           "x": 0.05
          },
          "xaxis": {
           "automargin": true,
           "gridcolor": "white",
           "linecolor": "white",
           "ticks": "",
           "title": {
            "standoff": 15
           },
           "zerolinecolor": "white",
           "zerolinewidth": 2
          },
          "yaxis": {
           "automargin": true,
           "gridcolor": "white",
           "linecolor": "white",
           "ticks": "",
           "title": {
            "standoff": 15
           },
           "zerolinecolor": "white",
           "zerolinewidth": 2
          }
         }
        },
        "width": 1200,
        "xaxis": {
         "title": {
          "text": "Year"
         }
        }
       }
      }
     },
     "metadata": {},
     "output_type": "display_data"
    }
   ],
   "source": [
    "df_sub = dispos[dispos[\"board_disposition\"] == \"Substantiated\"]\n",
    "\n",
    "df_unsub = (\n",
    "    dispos\n",
    "    [dispos[\"board_disposition\"] != \"Substantiated\"]\n",
    "    .groupby(\"year_received\")\n",
    "    [[\"count\", \"percent\"]]\n",
    "    .sum()\n",
    "    .reset_index()\n",
    ")\n",
    "\n",
    "fig = go.Figure()\n",
    "\n",
    "fig.add_trace(go.Bar(\n",
    "    x=df_sub[\"year_received\"],\n",
    "    y=df_sub[\"percent\"],\n",
    "    name=\"Misconduct Found %\",\n",
    "))\n",
    "\n",
    "fig.add_trace(go.Bar(\n",
    "    x=df_unsub[\"year_received\"],\n",
    "    y=df_unsub[\"count\"],\n",
    "    name=\"No Misconduct Found\",\n",
    "    hovertemplate=\"In %{x}, there were %{y} unsubstantiated complaints.<extra></extra>\"\n",
    "))\n",
    "\n",
    "fig.update_layout(\n",
    "    xaxis=dict(title=\"Year\",),\n",
    "    #yaxis=dict(tickvals=list(range(0,1800,300))),\n",
    "    legend=dict(title=\"Complaints:\",\n",
    "                x=0.02, xanchor='left', xref='paper',\n",
    "                y=0.7, yanchor='bottom', yref='paper',\n",
    "                bgcolor=\"rgba(255,255,255,.7)\",),\n",
    "    font=dict(size=18, family=\"Arial, sans-serif\"),\n",
    "    barmode=\"stack\",\n",
    "    autosize=True,\n",
    "    height = 670,\n",
    "    width = 1200,\n",
    "    colorway = pio.templates[\"plotly\"].layout.colorway[1::-1],\n",
    "    annotations=[\n",
    "        dict(text='<span style=\"font-size:24pt;\">The Myth of Police Brutality</span>',\n",
    "             x=0.5,\n",
    "             y=1.31,\n",
    "             xref='paper', yref='paper', showarrow=False, align='center'\n",
    "        ),\n",
    "        dict(text='<span style=\"font-size:18pt;\">Huge Increase in the Number of False NYPD Complaints</span>',\n",
    "             x=0.5,\n",
    "             y=1.16,\n",
    "             xref='paper',yref='paper', showarrow=False, align='center'\n",
    "        ),\n",
    "        dict(\n",
    "            text=('<span style=\"font-size:14pt\">Figure 2:</span>'),\n",
    "            font=(dict(color = \"rgba(0,0,0,.6)\")),\n",
    "            x = 0, y = -0.265,\n",
    "            yanchor='bottom',\n",
    "            xref='paper',yref='paper', showarrow=False, align='left'\n",
    "        ),\n",
    "        dict(\n",
    "            text=(\n",
    "                '<span style=\"font-size:14pt\">'\n",
    "                'Beginning in the early 2000\\'s, the NYPD began receiving an increasing number of complaints against its officers. <br>'\n",
    "                'In the vast majority of complaints, the officer involved was not found to have violated department policy. By <br>'\n",
    "                '2007, around 1,500 of these unsubstantiated claims were being made each year to the NYPD.</span>'\n",
    "            ),\n",
    "            font=(dict(color = \"rgba(0,0,0,.6)\")),\n",
    "            x = 0.08, y = -0.4,\n",
    "            yanchor='bottom',\n",
    "            xref='paper',yref='paper', showarrow=False, align='left'\n",
    "        ),],\n",
    "    margin=dict(l=100, r=80, t=150, b=170),\n",
    ")\n",
    "\n",
    "fig.show()\n",
    "\n",
    "pio.write_json(fig, \"figures/for_nypd_misconduct.json\")"
   ]
  },
  {
   "cell_type": "code",
   "execution_count": 61,
   "id": "f9b6e7fc",
   "metadata": {},
   "outputs": [
    {
     "data": {
      "application/vnd.plotly.v1+json": {
       "config": {
        "plotlyServerURL": "https://plot.ly"
       },
       "data": [
        {
         "hovertemplate": "In %{x}, there were %{y} complaints.<extra></extra>",
         "name": "Total Complaints",
         "type": "bar",
         "x": [
          1997,
          1998,
          1999,
          2000,
          2001,
          2002,
          2003,
          2004,
          2005,
          2006,
          2007,
          2008,
          2009,
          2010,
          2011,
          2012,
          2013,
          2014,
          2015,
          2016,
          2017,
          2018,
          2019
         ],
         "y": [
          214,
          250,
          155,
          232,
          344,
          571,
          792,
          972,
          1345,
          1654,
          1892,
          1631,
          1761,
          1659,
          1896,
          1841,
          2114,
          2220,
          2312,
          2345,
          2178,
          2281,
          1642
         ]
        },
        {
         "hovertemplate": "In %{x}, %{y} officers were not exonerated.<extra></extra>",
         "name": "Officer Not Exonerated",
         "type": "bar",
         "x": [
          1997,
          1998,
          1999,
          2000,
          2001,
          2002,
          2003,
          2004,
          2005,
          2006,
          2007,
          2008,
          2009,
          2010,
          2011,
          2012,
          2013,
          2014,
          2015,
          2016,
          2017,
          2018,
          2019
         ],
         "y": [
          165,
          192,
          87,
          147,
          192,
          331,
          506,
          576,
          744,
          983,
          1193,
          1057,
          1243,
          1123,
          1450,
          1495,
          1694,
          1821,
          1788,
          1756,
          1597,
          1564,
          1113
         ],
         "yaxis": "y2"
        }
       ],
       "layout": {
        "annotations": [
         {
          "align": "center",
          "showarrow": false,
          "text": "<span style=\"font-size:24pt;\">Overwhelming Misconduct at NYPD</span>",
          "x": 0.5,
          "xref": "paper",
          "y": 1.31,
          "yref": "paper"
         },
         {
          "align": "center",
          "showarrow": false,
          "text": "<span style=\"font-size:18pt;\">Officers Are Rarely Exonerated When Civilians Complain</span>",
          "x": 0.5,
          "xref": "paper",
          "y": 1.16,
          "yref": "paper"
         },
         {
          "align": "left",
          "font": {
           "color": "rgba(0,0,0,.6)"
          },
          "showarrow": false,
          "text": "<span style=\"font-size:14pt\">Figure 1:</span>",
          "x": 0,
          "xref": "paper",
          "y": -0.265,
          "yanchor": "bottom",
          "yref": "paper"
         },
         {
          "align": "left",
          "font": {
           "color": "rgba(0,0,0,.6)"
          },
          "showarrow": false,
          "text": "<span style=\"font-size:14pt\">Beginning in the early 2000's, the NYPD began receiving an increasing number of complaints against its officers. <br>In these vast majority of complaints, the officer involved was not found to have been following department policy.<br>By 2007, well over 1,000 of these complaints were being made each year to the NYPD.</span>",
          "x": 0.08,
          "xref": "paper",
          "y": -0.4,
          "yanchor": "bottom",
          "yref": "paper"
         }
        ],
        "autosize": false,
        "barmode": "overlay",
        "font": {
         "family": "Arial, sans-serif",
         "size": 18
        },
        "height": 670,
        "legend": {
         "bgcolor": "rgba(255,255,255,.7)",
         "title": {
          "text": "Complaints:"
         },
         "x": 0.02,
         "xanchor": "left",
         "xref": "paper",
         "y": 0.7,
         "yanchor": "bottom",
         "yref": "paper"
        },
        "margin": {
         "b": 170,
         "l": 100,
         "r": 80,
         "t": 150
        },
        "template": {
         "data": {
          "bar": [
           {
            "error_x": {
             "color": "#2a3f5f"
            },
            "error_y": {
             "color": "#2a3f5f"
            },
            "marker": {
             "line": {
              "color": "#E5ECF6",
              "width": 0.5
             },
             "pattern": {
              "fillmode": "overlay",
              "size": 10,
              "solidity": 0.2
             }
            },
            "type": "bar"
           }
          ],
          "barpolar": [
           {
            "marker": {
             "line": {
              "color": "#E5ECF6",
              "width": 0.5
             },
             "pattern": {
              "fillmode": "overlay",
              "size": 10,
              "solidity": 0.2
             }
            },
            "type": "barpolar"
           }
          ],
          "carpet": [
           {
            "aaxis": {
             "endlinecolor": "#2a3f5f",
             "gridcolor": "white",
             "linecolor": "white",
             "minorgridcolor": "white",
             "startlinecolor": "#2a3f5f"
            },
            "baxis": {
             "endlinecolor": "#2a3f5f",
             "gridcolor": "white",
             "linecolor": "white",
             "minorgridcolor": "white",
             "startlinecolor": "#2a3f5f"
            },
            "type": "carpet"
           }
          ],
          "choropleth": [
           {
            "colorbar": {
             "outlinewidth": 0,
             "ticks": ""
            },
            "type": "choropleth"
           }
          ],
          "contour": [
           {
            "colorbar": {
             "outlinewidth": 0,
             "ticks": ""
            },
            "colorscale": [
             [
              0,
              "#0d0887"
             ],
             [
              0.1111111111111111,
              "#46039f"
             ],
             [
              0.2222222222222222,
              "#7201a8"
             ],
             [
              0.3333333333333333,
              "#9c179e"
             ],
             [
              0.4444444444444444,
              "#bd3786"
             ],
             [
              0.5555555555555556,
              "#d8576b"
             ],
             [
              0.6666666666666666,
              "#ed7953"
             ],
             [
              0.7777777777777778,
              "#fb9f3a"
             ],
             [
              0.8888888888888888,
              "#fdca26"
             ],
             [
              1,
              "#f0f921"
             ]
            ],
            "type": "contour"
           }
          ],
          "contourcarpet": [
           {
            "colorbar": {
             "outlinewidth": 0,
             "ticks": ""
            },
            "type": "contourcarpet"
           }
          ],
          "heatmap": [
           {
            "colorbar": {
             "outlinewidth": 0,
             "ticks": ""
            },
            "colorscale": [
             [
              0,
              "#0d0887"
             ],
             [
              0.1111111111111111,
              "#46039f"
             ],
             [
              0.2222222222222222,
              "#7201a8"
             ],
             [
              0.3333333333333333,
              "#9c179e"
             ],
             [
              0.4444444444444444,
              "#bd3786"
             ],
             [
              0.5555555555555556,
              "#d8576b"
             ],
             [
              0.6666666666666666,
              "#ed7953"
             ],
             [
              0.7777777777777778,
              "#fb9f3a"
             ],
             [
              0.8888888888888888,
              "#fdca26"
             ],
             [
              1,
              "#f0f921"
             ]
            ],
            "type": "heatmap"
           }
          ],
          "heatmapgl": [
           {
            "colorbar": {
             "outlinewidth": 0,
             "ticks": ""
            },
            "colorscale": [
             [
              0,
              "#0d0887"
             ],
             [
              0.1111111111111111,
              "#46039f"
             ],
             [
              0.2222222222222222,
              "#7201a8"
             ],
             [
              0.3333333333333333,
              "#9c179e"
             ],
             [
              0.4444444444444444,
              "#bd3786"
             ],
             [
              0.5555555555555556,
              "#d8576b"
             ],
             [
              0.6666666666666666,
              "#ed7953"
             ],
             [
              0.7777777777777778,
              "#fb9f3a"
             ],
             [
              0.8888888888888888,
              "#fdca26"
             ],
             [
              1,
              "#f0f921"
             ]
            ],
            "type": "heatmapgl"
           }
          ],
          "histogram": [
           {
            "marker": {
             "pattern": {
              "fillmode": "overlay",
              "size": 10,
              "solidity": 0.2
             }
            },
            "type": "histogram"
           }
          ],
          "histogram2d": [
           {
            "colorbar": {
             "outlinewidth": 0,
             "ticks": ""
            },
            "colorscale": [
             [
              0,
              "#0d0887"
             ],
             [
              0.1111111111111111,
              "#46039f"
             ],
             [
              0.2222222222222222,
              "#7201a8"
             ],
             [
              0.3333333333333333,
              "#9c179e"
             ],
             [
              0.4444444444444444,
              "#bd3786"
             ],
             [
              0.5555555555555556,
              "#d8576b"
             ],
             [
              0.6666666666666666,
              "#ed7953"
             ],
             [
              0.7777777777777778,
              "#fb9f3a"
             ],
             [
              0.8888888888888888,
              "#fdca26"
             ],
             [
              1,
              "#f0f921"
             ]
            ],
            "type": "histogram2d"
           }
          ],
          "histogram2dcontour": [
           {
            "colorbar": {
             "outlinewidth": 0,
             "ticks": ""
            },
            "colorscale": [
             [
              0,
              "#0d0887"
             ],
             [
              0.1111111111111111,
              "#46039f"
             ],
             [
              0.2222222222222222,
              "#7201a8"
             ],
             [
              0.3333333333333333,
              "#9c179e"
             ],
             [
              0.4444444444444444,
              "#bd3786"
             ],
             [
              0.5555555555555556,
              "#d8576b"
             ],
             [
              0.6666666666666666,
              "#ed7953"
             ],
             [
              0.7777777777777778,
              "#fb9f3a"
             ],
             [
              0.8888888888888888,
              "#fdca26"
             ],
             [
              1,
              "#f0f921"
             ]
            ],
            "type": "histogram2dcontour"
           }
          ],
          "mesh3d": [
           {
            "colorbar": {
             "outlinewidth": 0,
             "ticks": ""
            },
            "type": "mesh3d"
           }
          ],
          "parcoords": [
           {
            "line": {
             "colorbar": {
              "outlinewidth": 0,
              "ticks": ""
             }
            },
            "type": "parcoords"
           }
          ],
          "pie": [
           {
            "automargin": true,
            "type": "pie"
           }
          ],
          "scatter": [
           {
            "fillpattern": {
             "fillmode": "overlay",
             "size": 10,
             "solidity": 0.2
            },
            "type": "scatter"
           }
          ],
          "scatter3d": [
           {
            "line": {
             "colorbar": {
              "outlinewidth": 0,
              "ticks": ""
             }
            },
            "marker": {
             "colorbar": {
              "outlinewidth": 0,
              "ticks": ""
             }
            },
            "type": "scatter3d"
           }
          ],
          "scattercarpet": [
           {
            "marker": {
             "colorbar": {
              "outlinewidth": 0,
              "ticks": ""
             }
            },
            "type": "scattercarpet"
           }
          ],
          "scattergeo": [
           {
            "marker": {
             "colorbar": {
              "outlinewidth": 0,
              "ticks": ""
             }
            },
            "type": "scattergeo"
           }
          ],
          "scattergl": [
           {
            "marker": {
             "colorbar": {
              "outlinewidth": 0,
              "ticks": ""
             }
            },
            "type": "scattergl"
           }
          ],
          "scattermapbox": [
           {
            "marker": {
             "colorbar": {
              "outlinewidth": 0,
              "ticks": ""
             }
            },
            "type": "scattermapbox"
           }
          ],
          "scatterpolar": [
           {
            "marker": {
             "colorbar": {
              "outlinewidth": 0,
              "ticks": ""
             }
            },
            "type": "scatterpolar"
           }
          ],
          "scatterpolargl": [
           {
            "marker": {
             "colorbar": {
              "outlinewidth": 0,
              "ticks": ""
             }
            },
            "type": "scatterpolargl"
           }
          ],
          "scatterternary": [
           {
            "marker": {
             "colorbar": {
              "outlinewidth": 0,
              "ticks": ""
             }
            },
            "type": "scatterternary"
           }
          ],
          "surface": [
           {
            "colorbar": {
             "outlinewidth": 0,
             "ticks": ""
            },
            "colorscale": [
             [
              0,
              "#0d0887"
             ],
             [
              0.1111111111111111,
              "#46039f"
             ],
             [
              0.2222222222222222,
              "#7201a8"
             ],
             [
              0.3333333333333333,
              "#9c179e"
             ],
             [
              0.4444444444444444,
              "#bd3786"
             ],
             [
              0.5555555555555556,
              "#d8576b"
             ],
             [
              0.6666666666666666,
              "#ed7953"
             ],
             [
              0.7777777777777778,
              "#fb9f3a"
             ],
             [
              0.8888888888888888,
              "#fdca26"
             ],
             [
              1,
              "#f0f921"
             ]
            ],
            "type": "surface"
           }
          ],
          "table": [
           {
            "cells": {
             "fill": {
              "color": "#EBF0F8"
             },
             "line": {
              "color": "white"
             }
            },
            "header": {
             "fill": {
              "color": "#C8D4E3"
             },
             "line": {
              "color": "white"
             }
            },
            "type": "table"
           }
          ]
         },
         "layout": {
          "annotationdefaults": {
           "arrowcolor": "#2a3f5f",
           "arrowhead": 0,
           "arrowwidth": 1
          },
          "autotypenumbers": "strict",
          "coloraxis": {
           "colorbar": {
            "outlinewidth": 0,
            "ticks": ""
           }
          },
          "colorscale": {
           "diverging": [
            [
             0,
             "#8e0152"
            ],
            [
             0.1,
             "#c51b7d"
            ],
            [
             0.2,
             "#de77ae"
            ],
            [
             0.3,
             "#f1b6da"
            ],
            [
             0.4,
             "#fde0ef"
            ],
            [
             0.5,
             "#f7f7f7"
            ],
            [
             0.6,
             "#e6f5d0"
            ],
            [
             0.7,
             "#b8e186"
            ],
            [
             0.8,
             "#7fbc41"
            ],
            [
             0.9,
             "#4d9221"
            ],
            [
             1,
             "#276419"
            ]
           ],
           "sequential": [
            [
             0,
             "#0d0887"
            ],
            [
             0.1111111111111111,
             "#46039f"
            ],
            [
             0.2222222222222222,
             "#7201a8"
            ],
            [
             0.3333333333333333,
             "#9c179e"
            ],
            [
             0.4444444444444444,
             "#bd3786"
            ],
            [
             0.5555555555555556,
             "#d8576b"
            ],
            [
             0.6666666666666666,
             "#ed7953"
            ],
            [
             0.7777777777777778,
             "#fb9f3a"
            ],
            [
             0.8888888888888888,
             "#fdca26"
            ],
            [
             1,
             "#f0f921"
            ]
           ],
           "sequentialminus": [
            [
             0,
             "#0d0887"
            ],
            [
             0.1111111111111111,
             "#46039f"
            ],
            [
             0.2222222222222222,
             "#7201a8"
            ],
            [
             0.3333333333333333,
             "#9c179e"
            ],
            [
             0.4444444444444444,
             "#bd3786"
            ],
            [
             0.5555555555555556,
             "#d8576b"
            ],
            [
             0.6666666666666666,
             "#ed7953"
            ],
            [
             0.7777777777777778,
             "#fb9f3a"
            ],
            [
             0.8888888888888888,
             "#fdca26"
            ],
            [
             1,
             "#f0f921"
            ]
           ]
          },
          "colorway": [
           "#636efa",
           "#EF553B",
           "#00cc96",
           "#ab63fa",
           "#FFA15A",
           "#19d3f3",
           "#FF6692",
           "#B6E880",
           "#FF97FF",
           "#FECB52"
          ],
          "font": {
           "color": "#2a3f5f"
          },
          "geo": {
           "bgcolor": "white",
           "lakecolor": "white",
           "landcolor": "#E5ECF6",
           "showlakes": true,
           "showland": true,
           "subunitcolor": "white"
          },
          "hoverlabel": {
           "align": "left"
          },
          "hovermode": "closest",
          "mapbox": {
           "style": "light"
          },
          "paper_bgcolor": "white",
          "plot_bgcolor": "#E5ECF6",
          "polar": {
           "angularaxis": {
            "gridcolor": "white",
            "linecolor": "white",
            "ticks": ""
           },
           "bgcolor": "#E5ECF6",
           "radialaxis": {
            "gridcolor": "white",
            "linecolor": "white",
            "ticks": ""
           }
          },
          "scene": {
           "xaxis": {
            "backgroundcolor": "#E5ECF6",
            "gridcolor": "white",
            "gridwidth": 2,
            "linecolor": "white",
            "showbackground": true,
            "ticks": "",
            "zerolinecolor": "white"
           },
           "yaxis": {
            "backgroundcolor": "#E5ECF6",
            "gridcolor": "white",
            "gridwidth": 2,
            "linecolor": "white",
            "showbackground": true,
            "ticks": "",
            "zerolinecolor": "white"
           },
           "zaxis": {
            "backgroundcolor": "#E5ECF6",
            "gridcolor": "white",
            "gridwidth": 2,
            "linecolor": "white",
            "showbackground": true,
            "ticks": "",
            "zerolinecolor": "white"
           }
          },
          "shapedefaults": {
           "line": {
            "color": "#2a3f5f"
           }
          },
          "ternary": {
           "aaxis": {
            "gridcolor": "white",
            "linecolor": "white",
            "ticks": ""
           },
           "baxis": {
            "gridcolor": "white",
            "linecolor": "white",
            "ticks": ""
           },
           "bgcolor": "#E5ECF6",
           "caxis": {
            "gridcolor": "white",
            "linecolor": "white",
            "ticks": ""
           }
          },
          "title": {
           "x": 0.05
          },
          "xaxis": {
           "automargin": true,
           "gridcolor": "white",
           "linecolor": "white",
           "ticks": "",
           "title": {
            "standoff": 15
           },
           "zerolinecolor": "white",
           "zerolinewidth": 2
          },
          "yaxis": {
           "automargin": true,
           "gridcolor": "white",
           "linecolor": "white",
           "ticks": "",
           "title": {
            "standoff": 15
           },
           "zerolinecolor": "white",
           "zerolinewidth": 2
          }
         }
        },
        "width": 1200,
        "xaxis": {
         "title": {
          "text": "Year"
         }
        },
        "yaxis": {
         "fixedrange": true,
         "side": "left",
         "title": {
          "text": "Total Complaints"
         }
        },
        "yaxis2": {
         "fixedrange": true,
         "overlaying": "y",
         "range": [
          0,
          2050
         ],
         "showgrid": false,
         "showticklabels": false
        }
       }
      }
     },
     "metadata": {},
     "output_type": "display_data"
    }
   ],
   "source": [
    "df_nonexo = (\n",
    "    dispos\n",
    "    [dispos[\"board_disposition\"] != \"Exonerated\"]\n",
    "    .groupby(\"year_received\")\n",
    "    [[\"count\", \"percent\"]]\n",
    "    .sum().reset_index()\n",
    "    .query(\"year_received>1996\")\n",
    ")\n",
    "\n",
    "df_tot = (\n",
    "    dispos\n",
    "    .groupby(\"year_received\")\n",
    "    [\"total\"]\n",
    "    .first()\n",
    "    .reset_index()\n",
    "    .query(\"year_received>1996\")\n",
    ")\n",
    "\n",
    "fig = go.Figure()\n",
    "\n",
    "fig.add_trace(go.Bar(\n",
    "    x=df_tot[\"year_received\"],\n",
    "    y=df_tot[\"total\"],\n",
    "    name=\"Total Complaints\",\n",
    "    hovertemplate=\"In %{x}, there were %{y} complaints.<extra></extra>\"\n",
    "))\n",
    "fig.add_trace(go.Bar(\n",
    "    x=df_nonexo[\"year_received\"],\n",
    "    y=df_nonexo['count'],\n",
    "    name=\"Officer Not Exonerated\",\n",
    "    yaxis = \"y2\",\n",
    "    #offset=-0.15,\n",
    "    hovertemplate=\"In %{x}, %{y} officers were not exonerated.<extra></extra>\"\n",
    "))\n",
    "\n",
    "fig.update_layout(\n",
    "    xaxis=dict(title=\"Year\"),\n",
    "    legend=dict(title=\"Complaints:\",\n",
    "                x=0.02, xanchor='left', xref='paper',\n",
    "                y=0.7, yanchor='bottom', yref='paper',\n",
    "                bgcolor=\"rgba(255,255,255,.7)\",),\n",
    "    font=dict(size=18, family=\"Arial, sans-serif\"),\n",
    "    barmode=\"overlay\",\n",
    "    autosize=False,\n",
    "    height = 670,\n",
    "    width = 1200,\n",
    "    yaxis = dict(\n",
    "        title=\"Total Complaints\",\n",
    "        side='left',\n",
    "        fixedrange=True),\n",
    "    yaxis2=dict(\n",
    "        overlaying='y', \n",
    "        range=[0,2050],\n",
    "        showgrid=False,\n",
    "        showticklabels=False,\n",
    "        fixedrange=True),\n",
    "    annotations=[\n",
    "        dict(\n",
    "            text='<span style=\"font-size:24pt;\">Overwhelming Misconduct at NYPD</span>',\n",
    "            x=0.5,\n",
    "            y=1.31,\n",
    "            xref='paper', yref='paper', showarrow=False, align='center'\n",
    "        ),\n",
    "        dict(\n",
    "            text = '<span style=\"font-size:18pt;\">Officers Are Rarely Exonerated When Civilians Complain</span>',\n",
    "            x=0.5,\n",
    "            y=1.16,\n",
    "            xref='paper',yref='paper', showarrow=False, align='center'\n",
    "        ),\n",
    "        dict(\n",
    "            text=('<span style=\"font-size:14pt\">Figure 1:</span>'),\n",
    "            font=(dict(color = \"rgba(0,0,0,.6)\")),\n",
    "            x = 0, y = -0.265,\n",
    "            yanchor='bottom',\n",
    "            xref='paper',yref='paper', showarrow=False, align='left'\n",
    "        ),\n",
    "        dict(\n",
    "            text=(\n",
    "                '<span style=\"font-size:14pt\">'\n",
    "                'Beginning in the early 2000\\'s, the NYPD began receiving an increasing number of complaints against its officers. <br>'\n",
    "                'In these vast majority of complaints, the officer involved was not found to have been following department policy.<br>'\n",
    "                'By 2007, well over 1,000 of these complaints were being made each year to the NYPD.</span>'\n",
    "            ),\n",
    "            font=(dict(color = \"rgba(0,0,0,.6)\")),\n",
    "            x = 0.08, y = -0.4,\n",
    "            yanchor='bottom',\n",
    "            xref='paper',yref='paper', showarrow=False, align='left'\n",
    "        ),\n",
    "    ],\n",
    "    margin=dict(l=100, r=80, t=150, b=170),\n",
    ")\n",
    "\n",
    "fig.show()\n",
    "\n",
    "pio.write_json(fig, \"figures/against_nypd_misconduct.json\")"
   ]
  },
  {
   "cell_type": "code",
   "execution_count": 64,
   "id": "ad699e7b",
   "metadata": {},
   "outputs": [
    {
     "data": {
      "application/vnd.plotly.v1+json": {
       "config": {
        "plotlyServerURL": "https://plot.ly"
       },
       "data": [
        {
         "hovertemplate": "In %{x}, there were %{y} complaints.<extra></extra>",
         "name": "Total Complaints",
         "type": "bar",
         "x": [
          1997,
          1998,
          1999,
          2000,
          2001,
          2002,
          2003,
          2004,
          2005,
          2006,
          2007,
          2008,
          2009,
          2010,
          2011,
          2012,
          2013,
          2014,
          2015,
          2016,
          2017,
          2018,
          2019
         ],
         "y": [
          214,
          250,
          155,
          232,
          344,
          571,
          792,
          972,
          1345,
          1654,
          1892,
          1631,
          1761,
          1659,
          1896,
          1841,
          2114,
          2220,
          2312,
          2345,
          2178,
          2281,
          1642
         ]
        },
        {
         "hovertemplate": "In %{x}, %{y} officers were not exonerated.<extra></extra>",
         "name": "Officer Not Exonerated",
         "type": "bar",
         "x": [
          1997,
          1998,
          1999,
          2000,
          2001,
          2002,
          2003,
          2004,
          2005,
          2006,
          2007,
          2008,
          2009,
          2010,
          2011,
          2012,
          2013,
          2014,
          2015,
          2016,
          2017,
          2018,
          2019
         ],
         "y": [
          165,
          192,
          87,
          147,
          192,
          331,
          506,
          576,
          744,
          983,
          1193,
          1057,
          1243,
          1123,
          1450,
          1495,
          1694,
          1821,
          1788,
          1756,
          1597,
          1564,
          1113
         ],
         "yaxis": "y2"
        }
       ],
       "layout": {
        "annotations": [
         {
          "align": "center",
          "font": {
           "size": 24
          },
          "showarrow": false,
          "text": "Overwhelming Misconduct at NYPD",
          "x": 0.5,
          "xanchor": "center",
          "xref": "paper",
          "y": 1.4,
          "yanchor": "top",
          "yref": "paper"
         },
         {
          "align": "center",
          "font": {
           "size": 20
          },
          "showarrow": false,
          "text": "Officers Are Rarely Exonerated When Civilians Complain",
          "x": 0.5,
          "xanchor": "center",
          "xref": "paper",
          "y": 1.2,
          "yanchor": "top",
          "yref": "paper"
         },
         {
          "align": "left",
          "font": {
           "color": "rgba(0,0,0,.6)",
           "size": 16
          },
          "showarrow": false,
          "text": "Figure 1:",
          "x": 0,
          "xanchor": "left",
          "xref": "paper",
          "y": -0.465,
          "yanchor": "bottom",
          "yref": "paper"
         },
         {
          "align": "left",
          "font": {
           "color": "rgba(0,0,0,.6)",
           "size": 16
          },
          "showarrow": false,
          "text": "Beginning in the early 2000's, the NYPD began receiving an increasing number of complaints against its officers. <br>In these vast majority of complaints, the officer involved was not found to have been following department policy.<br>By 2007, well over 1,000 of these complaints were being made each year to the NYPD.",
          "x": 0.08,
          "xanchor": "left",
          "xref": "paper",
          "y": -0.685,
          "yanchor": "bottom",
          "yref": "paper"
         }
        ],
        "autosize": true,
        "barmode": "overlay",
        "font": {
         "family": "Arial, sans-serif",
         "size": 16
        },
        "height": 800,
        "legend": {
         "bgcolor": "rgba(255,255,255,.7)",
         "title": {
          "text": "Complaints:"
         },
         "x": 0.02,
         "xanchor": "left",
         "xref": "paper",
         "y": 0.94,
         "yanchor": "top",
         "yref": "paper"
        },
        "margin": {
         "b": 160,
         "l": 100,
         "r": 100,
         "t": 100
        },
        "template": {
         "data": {
          "bar": [
           {
            "error_x": {
             "color": "#2a3f5f"
            },
            "error_y": {
             "color": "#2a3f5f"
            },
            "marker": {
             "line": {
              "color": "#E5ECF6",
              "width": 0.5
             },
             "pattern": {
              "fillmode": "overlay",
              "size": 10,
              "solidity": 0.2
             }
            },
            "type": "bar"
           }
          ],
          "barpolar": [
           {
            "marker": {
             "line": {
              "color": "#E5ECF6",
              "width": 0.5
             },
             "pattern": {
              "fillmode": "overlay",
              "size": 10,
              "solidity": 0.2
             }
            },
            "type": "barpolar"
           }
          ],
          "carpet": [
           {
            "aaxis": {
             "endlinecolor": "#2a3f5f",
             "gridcolor": "white",
             "linecolor": "white",
             "minorgridcolor": "white",
             "startlinecolor": "#2a3f5f"
            },
            "baxis": {
             "endlinecolor": "#2a3f5f",
             "gridcolor": "white",
             "linecolor": "white",
             "minorgridcolor": "white",
             "startlinecolor": "#2a3f5f"
            },
            "type": "carpet"
           }
          ],
          "choropleth": [
           {
            "colorbar": {
             "outlinewidth": 0,
             "ticks": ""
            },
            "type": "choropleth"
           }
          ],
          "contour": [
           {
            "colorbar": {
             "outlinewidth": 0,
             "ticks": ""
            },
            "colorscale": [
             [
              0,
              "#0d0887"
             ],
             [
              0.1111111111111111,
              "#46039f"
             ],
             [
              0.2222222222222222,
              "#7201a8"
             ],
             [
              0.3333333333333333,
              "#9c179e"
             ],
             [
              0.4444444444444444,
              "#bd3786"
             ],
             [
              0.5555555555555556,
              "#d8576b"
             ],
             [
              0.6666666666666666,
              "#ed7953"
             ],
             [
              0.7777777777777778,
              "#fb9f3a"
             ],
             [
              0.8888888888888888,
              "#fdca26"
             ],
             [
              1,
              "#f0f921"
             ]
            ],
            "type": "contour"
           }
          ],
          "contourcarpet": [
           {
            "colorbar": {
             "outlinewidth": 0,
             "ticks": ""
            },
            "type": "contourcarpet"
           }
          ],
          "heatmap": [
           {
            "colorbar": {
             "outlinewidth": 0,
             "ticks": ""
            },
            "colorscale": [
             [
              0,
              "#0d0887"
             ],
             [
              0.1111111111111111,
              "#46039f"
             ],
             [
              0.2222222222222222,
              "#7201a8"
             ],
             [
              0.3333333333333333,
              "#9c179e"
             ],
             [
              0.4444444444444444,
              "#bd3786"
             ],
             [
              0.5555555555555556,
              "#d8576b"
             ],
             [
              0.6666666666666666,
              "#ed7953"
             ],
             [
              0.7777777777777778,
              "#fb9f3a"
             ],
             [
              0.8888888888888888,
              "#fdca26"
             ],
             [
              1,
              "#f0f921"
             ]
            ],
            "type": "heatmap"
           }
          ],
          "heatmapgl": [
           {
            "colorbar": {
             "outlinewidth": 0,
             "ticks": ""
            },
            "colorscale": [
             [
              0,
              "#0d0887"
             ],
             [
              0.1111111111111111,
              "#46039f"
             ],
             [
              0.2222222222222222,
              "#7201a8"
             ],
             [
              0.3333333333333333,
              "#9c179e"
             ],
             [
              0.4444444444444444,
              "#bd3786"
             ],
             [
              0.5555555555555556,
              "#d8576b"
             ],
             [
              0.6666666666666666,
              "#ed7953"
             ],
             [
              0.7777777777777778,
              "#fb9f3a"
             ],
             [
              0.8888888888888888,
              "#fdca26"
             ],
             [
              1,
              "#f0f921"
             ]
            ],
            "type": "heatmapgl"
           }
          ],
          "histogram": [
           {
            "marker": {
             "pattern": {
              "fillmode": "overlay",
              "size": 10,
              "solidity": 0.2
             }
            },
            "type": "histogram"
           }
          ],
          "histogram2d": [
           {
            "colorbar": {
             "outlinewidth": 0,
             "ticks": ""
            },
            "colorscale": [
             [
              0,
              "#0d0887"
             ],
             [
              0.1111111111111111,
              "#46039f"
             ],
             [
              0.2222222222222222,
              "#7201a8"
             ],
             [
              0.3333333333333333,
              "#9c179e"
             ],
             [
              0.4444444444444444,
              "#bd3786"
             ],
             [
              0.5555555555555556,
              "#d8576b"
             ],
             [
              0.6666666666666666,
              "#ed7953"
             ],
             [
              0.7777777777777778,
              "#fb9f3a"
             ],
             [
              0.8888888888888888,
              "#fdca26"
             ],
             [
              1,
              "#f0f921"
             ]
            ],
            "type": "histogram2d"
           }
          ],
          "histogram2dcontour": [
           {
            "colorbar": {
             "outlinewidth": 0,
             "ticks": ""
            },
            "colorscale": [
             [
              0,
              "#0d0887"
             ],
             [
              0.1111111111111111,
              "#46039f"
             ],
             [
              0.2222222222222222,
              "#7201a8"
             ],
             [
              0.3333333333333333,
              "#9c179e"
             ],
             [
              0.4444444444444444,
              "#bd3786"
             ],
             [
              0.5555555555555556,
              "#d8576b"
             ],
             [
              0.6666666666666666,
              "#ed7953"
             ],
             [
              0.7777777777777778,
              "#fb9f3a"
             ],
             [
              0.8888888888888888,
              "#fdca26"
             ],
             [
              1,
              "#f0f921"
             ]
            ],
            "type": "histogram2dcontour"
           }
          ],
          "mesh3d": [
           {
            "colorbar": {
             "outlinewidth": 0,
             "ticks": ""
            },
            "type": "mesh3d"
           }
          ],
          "parcoords": [
           {
            "line": {
             "colorbar": {
              "outlinewidth": 0,
              "ticks": ""
             }
            },
            "type": "parcoords"
           }
          ],
          "pie": [
           {
            "automargin": true,
            "type": "pie"
           }
          ],
          "scatter": [
           {
            "fillpattern": {
             "fillmode": "overlay",
             "size": 10,
             "solidity": 0.2
            },
            "type": "scatter"
           }
          ],
          "scatter3d": [
           {
            "line": {
             "colorbar": {
              "outlinewidth": 0,
              "ticks": ""
             }
            },
            "marker": {
             "colorbar": {
              "outlinewidth": 0,
              "ticks": ""
             }
            },
            "type": "scatter3d"
           }
          ],
          "scattercarpet": [
           {
            "marker": {
             "colorbar": {
              "outlinewidth": 0,
              "ticks": ""
             }
            },
            "type": "scattercarpet"
           }
          ],
          "scattergeo": [
           {
            "marker": {
             "colorbar": {
              "outlinewidth": 0,
              "ticks": ""
             }
            },
            "type": "scattergeo"
           }
          ],
          "scattergl": [
           {
            "marker": {
             "colorbar": {
              "outlinewidth": 0,
              "ticks": ""
             }
            },
            "type": "scattergl"
           }
          ],
          "scattermapbox": [
           {
            "marker": {
             "colorbar": {
              "outlinewidth": 0,
              "ticks": ""
             }
            },
            "type": "scattermapbox"
           }
          ],
          "scatterpolar": [
           {
            "marker": {
             "colorbar": {
              "outlinewidth": 0,
              "ticks": ""
             }
            },
            "type": "scatterpolar"
           }
          ],
          "scatterpolargl": [
           {
            "marker": {
             "colorbar": {
              "outlinewidth": 0,
              "ticks": ""
             }
            },
            "type": "scatterpolargl"
           }
          ],
          "scatterternary": [
           {
            "marker": {
             "colorbar": {
              "outlinewidth": 0,
              "ticks": ""
             }
            },
            "type": "scatterternary"
           }
          ],
          "surface": [
           {
            "colorbar": {
             "outlinewidth": 0,
             "ticks": ""
            },
            "colorscale": [
             [
              0,
              "#0d0887"
             ],
             [
              0.1111111111111111,
              "#46039f"
             ],
             [
              0.2222222222222222,
              "#7201a8"
             ],
             [
              0.3333333333333333,
              "#9c179e"
             ],
             [
              0.4444444444444444,
              "#bd3786"
             ],
             [
              0.5555555555555556,
              "#d8576b"
             ],
             [
              0.6666666666666666,
              "#ed7953"
             ],
             [
              0.7777777777777778,
              "#fb9f3a"
             ],
             [
              0.8888888888888888,
              "#fdca26"
             ],
             [
              1,
              "#f0f921"
             ]
            ],
            "type": "surface"
           }
          ],
          "table": [
           {
            "cells": {
             "fill": {
              "color": "#EBF0F8"
             },
             "line": {
              "color": "white"
             }
            },
            "header": {
             "fill": {
              "color": "#C8D4E3"
             },
             "line": {
              "color": "white"
             }
            },
            "type": "table"
           }
          ]
         },
         "layout": {
          "annotationdefaults": {
           "arrowcolor": "#2a3f5f",
           "arrowhead": 0,
           "arrowwidth": 1
          },
          "autotypenumbers": "strict",
          "coloraxis": {
           "colorbar": {
            "outlinewidth": 0,
            "ticks": ""
           }
          },
          "colorscale": {
           "diverging": [
            [
             0,
             "#8e0152"
            ],
            [
             0.1,
             "#c51b7d"
            ],
            [
             0.2,
             "#de77ae"
            ],
            [
             0.3,
             "#f1b6da"
            ],
            [
             0.4,
             "#fde0ef"
            ],
            [
             0.5,
             "#f7f7f7"
            ],
            [
             0.6,
             "#e6f5d0"
            ],
            [
             0.7,
             "#b8e186"
            ],
            [
             0.8,
             "#7fbc41"
            ],
            [
             0.9,
             "#4d9221"
            ],
            [
             1,
             "#276419"
            ]
           ],
           "sequential": [
            [
             0,
             "#0d0887"
            ],
            [
             0.1111111111111111,
             "#46039f"
            ],
            [
             0.2222222222222222,
             "#7201a8"
            ],
            [
             0.3333333333333333,
             "#9c179e"
            ],
            [
             0.4444444444444444,
             "#bd3786"
            ],
            [
             0.5555555555555556,
             "#d8576b"
            ],
            [
             0.6666666666666666,
             "#ed7953"
            ],
            [
             0.7777777777777778,
             "#fb9f3a"
            ],
            [
             0.8888888888888888,
             "#fdca26"
            ],
            [
             1,
             "#f0f921"
            ]
           ],
           "sequentialminus": [
            [
             0,
             "#0d0887"
            ],
            [
             0.1111111111111111,
             "#46039f"
            ],
            [
             0.2222222222222222,
             "#7201a8"
            ],
            [
             0.3333333333333333,
             "#9c179e"
            ],
            [
             0.4444444444444444,
             "#bd3786"
            ],
            [
             0.5555555555555556,
             "#d8576b"
            ],
            [
             0.6666666666666666,
             "#ed7953"
            ],
            [
             0.7777777777777778,
             "#fb9f3a"
            ],
            [
             0.8888888888888888,
             "#fdca26"
            ],
            [
             1,
             "#f0f921"
            ]
           ]
          },
          "colorway": [
           "#636efa",
           "#EF553B",
           "#00cc96",
           "#ab63fa",
           "#FFA15A",
           "#19d3f3",
           "#FF6692",
           "#B6E880",
           "#FF97FF",
           "#FECB52"
          ],
          "font": {
           "color": "#2a3f5f"
          },
          "geo": {
           "bgcolor": "white",
           "lakecolor": "white",
           "landcolor": "#E5ECF6",
           "showlakes": true,
           "showland": true,
           "subunitcolor": "white"
          },
          "hoverlabel": {
           "align": "left"
          },
          "hovermode": "closest",
          "mapbox": {
           "style": "light"
          },
          "paper_bgcolor": "white",
          "plot_bgcolor": "#E5ECF6",
          "polar": {
           "angularaxis": {
            "gridcolor": "white",
            "linecolor": "white",
            "ticks": ""
           },
           "bgcolor": "#E5ECF6",
           "radialaxis": {
            "gridcolor": "white",
            "linecolor": "white",
            "ticks": ""
           }
          },
          "scene": {
           "xaxis": {
            "backgroundcolor": "#E5ECF6",
            "gridcolor": "white",
            "gridwidth": 2,
            "linecolor": "white",
            "showbackground": true,
            "ticks": "",
            "zerolinecolor": "white"
           },
           "yaxis": {
            "backgroundcolor": "#E5ECF6",
            "gridcolor": "white",
            "gridwidth": 2,
            "linecolor": "white",
            "showbackground": true,
            "ticks": "",
            "zerolinecolor": "white"
           },
           "zaxis": {
            "backgroundcolor": "#E5ECF6",
            "gridcolor": "white",
            "gridwidth": 2,
            "linecolor": "white",
            "showbackground": true,
            "ticks": "",
            "zerolinecolor": "white"
           }
          },
          "shapedefaults": {
           "line": {
            "color": "#2a3f5f"
           }
          },
          "ternary": {
           "aaxis": {
            "gridcolor": "white",
            "linecolor": "white",
            "ticks": ""
           },
           "baxis": {
            "gridcolor": "white",
            "linecolor": "white",
            "ticks": ""
           },
           "bgcolor": "#E5ECF6",
           "caxis": {
            "gridcolor": "white",
            "linecolor": "white",
            "ticks": ""
           }
          },
          "title": {
           "x": 0.05
          },
          "xaxis": {
           "automargin": true,
           "gridcolor": "white",
           "linecolor": "white",
           "ticks": "",
           "title": {
            "standoff": 15
           },
           "zerolinecolor": "white",
           "zerolinewidth": 2
          },
          "yaxis": {
           "automargin": true,
           "gridcolor": "white",
           "linecolor": "white",
           "ticks": "",
           "title": {
            "standoff": 15
           },
           "zerolinecolor": "white",
           "zerolinewidth": 2
          }
         }
        },
        "xaxis": {
         "title": {
          "text": "Year"
         }
        },
        "yaxis": {
         "fixedrange": true,
         "side": "left",
         "title": {
          "text": "Total Complaints"
         }
        },
        "yaxis2": {
         "fixedrange": true,
         "overlaying": "y",
         "range": [
          0,
          2050
         ],
         "showgrid": false,
         "showticklabels": false
        }
       }
      }
     },
     "metadata": {},
     "output_type": "display_data"
    }
   ],
   "source": [
    "df_nonexo = (\n",
    "    dispos\n",
    "    [dispos[\"board_disposition\"] != \"Exonerated\"]\n",
    "    .groupby(\"year_received\")\n",
    "    [[\"count\", \"percent\"]]\n",
    "    .sum().reset_index()\n",
    "    .query(\"year_received>1996\")\n",
    ")\n",
    "\n",
    "df_tot = (\n",
    "    dispos\n",
    "    .groupby(\"year_received\")\n",
    "    [\"total\"]\n",
    "    .first()\n",
    "    .reset_index()\n",
    "    .query(\"year_received>1996\")\n",
    ")\n",
    "\n",
    "fig = go.Figure()\n",
    "\n",
    "fig.add_trace(go.Bar(\n",
    "    x=df_tot[\"year_received\"],\n",
    "    y=df_tot[\"total\"],\n",
    "    name=\"Total Complaints\",\n",
    "    hovertemplate=\"In %{x}, there were %{y} complaints.<extra></extra>\"\n",
    "))\n",
    "fig.add_trace(go.Bar(\n",
    "    x=df_nonexo[\"year_received\"],\n",
    "    y=df_nonexo['count'],\n",
    "    name=\"Officer Not Exonerated\",\n",
    "    yaxis = \"y2\",\n",
    "    hovertemplate=\"In %{x}, %{y} officers were not exonerated.<extra></extra>\"\n",
    "))\n",
    "\n",
    "fig.update_layout(\n",
    "    xaxis=dict(title=\"Year\"),\n",
    "    legend=dict(title=\"Complaints:\",\n",
    "                x=0.02, xanchor='left', xref='paper',\n",
    "                y=0.94, yanchor='top', yref='paper',\n",
    "                bgcolor=\"rgba(255,255,255,.7)\",),\n",
    "    font=dict(size=16, family=\"Arial, sans-serif\"),\n",
    "    barmode=\"overlay\",\n",
    "    autosize=True,\n",
    "    height=800,\n",
    "    yaxis = dict(\n",
    "        title=\"Total Complaints\",\n",
    "        side='left',\n",
    "        fixedrange=True),\n",
    "    yaxis2=dict(\n",
    "        overlaying='y', \n",
    "        range=[0,2050],\n",
    "        showgrid=False,\n",
    "        showticklabels=False,\n",
    "        fixedrange=True),\n",
    "    annotations=[\n",
    "        dict(\n",
    "            text=\"Overwhelming Misconduct at NYPD\",\n",
    "            font=dict(size=24),\n",
    "            x=0.5,\n",
    "            y=1.4,\n",
    "            xref='paper', yref='paper', \n",
    "            xanchor='center', yanchor='top',\n",
    "            showarrow=False, align='center'\n",
    "        ),\n",
    "        dict(\n",
    "            text = \"Officers Are Rarely Exonerated When Civilians Complain\",\n",
    "            font=dict(size=20),\n",
    "            x=0.5,\n",
    "            y=1.2,\n",
    "            xanchor='center', yanchor='top',\n",
    "            xref='paper',yref='paper', \n",
    "            showarrow=False, align='center'\n",
    "        ),\n",
    "        dict(\n",
    "            text=('Figure 1:'),\n",
    "            font=(dict(size=16, color = \"rgba(0,0,0,.6)\")),\n",
    "            x = 0, y = -0.465,\n",
    "            xanchor='left', yanchor='bottom',\n",
    "            xref='paper',yref='paper', showarrow=False, align='left'\n",
    "        ),\n",
    "        dict(\n",
    "            text=(\n",
    "                'Beginning in the early 2000\\'s, the NYPD began receiving an increasing number of complaints against its officers. <br>'\n",
    "                'In these vast majority of complaints, the officer involved was not found to have been following department policy.<br>'\n",
    "                'By 2007, well over 1,000 of these complaints were being made each year to the NYPD.'\n",
    "            ),\n",
    "            font=(dict(size=16, color = \"rgba(0,0,0,.6)\")),\n",
    "            x = 0.08, y = -0.685,\n",
    "            xanchor='left', yanchor='bottom',\n",
    "            xref='paper',yref='paper', showarrow=False, align='left'\n",
    "        ),\n",
    "    ],\n",
    "    margin=dict(l=100, r=100, t=100, b=160),\n",
    ")\n",
    "\n",
    "fig.show()\n",
    "\n",
    "pio.write_json(fig, \"figures/against_nypd_misconduct.json\")"
   ]
  },
  {
   "cell_type": "code",
   "execution_count": null,
   "id": "4a9cdf01",
   "metadata": {},
   "outputs": [],
   "source": []
  }
 ],
 "metadata": {
  "kernelspec": {
   "display_name": "dsc106",
   "language": "python",
   "name": "python3"
  },
  "language_info": {
   "codemirror_mode": {
    "name": "ipython",
    "version": 3
   },
   "file_extension": ".py",
   "mimetype": "text/x-python",
   "name": "python",
   "nbconvert_exporter": "python",
   "pygments_lexer": "ipython3",
   "version": "3.11.11"
  }
 },
 "nbformat": 4,
 "nbformat_minor": 5
}
